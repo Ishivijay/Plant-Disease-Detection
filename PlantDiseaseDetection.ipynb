{
 "cells": [
  {
   "cell_type": "code",
   "execution_count": 33,
   "id": "137a8763-c0c3-433f-8256-8b57571e016b",
   "metadata": {},
   "outputs": [],
   "source": [
    "import cv2\n",
    "import os\n",
    "import numpy as np"
   ]
  },
  {
   "cell_type": "code",
   "execution_count": 34,
   "id": "bab916a6-773b-4758-aed5-73ca31e13e5a",
   "metadata": {},
   "outputs": [],
   "source": [
    "# Function to load images from a directory\n",
    "def load_images_from_folder(folder):\n",
    "    images = []\n",
    "    for filename in os.listdir(folder):\n",
    "        img = cv2.imread(os.path.join(folder, filename))\n",
    "        if img is not None:\n",
    "            images.append(img)\n",
    "    return images"
   ]
  },
  {
   "cell_type": "code",
   "execution_count": 35,
   "id": "61ce21b1-4cd5-40c6-af7f-e6df1bdca210",
   "metadata": {},
   "outputs": [],
   "source": [
    "# Load healthy and diseased plant images\n",
    "healthy_images = load_images_from_folder(\"Plant_Leaf_Diseases_dataset\\With_augmentation\\Apple___healthy\")\n",
    "diseased_images = load_images_from_folder(\"Plant_Leaf_Diseases_dataset\\With_augmentation\\Apple___Black_rot\")"
   ]
  },
  {
   "cell_type": "code",
   "execution_count": 36,
   "id": "c16c6be2-a8da-4bd8-a10c-92f7c4c5aad4",
   "metadata": {},
   "outputs": [],
   "source": [
    "# Preprocess images (resize, convert to grayscale)\n",
    "def preprocess_images(images):\n",
    "    processed_images = []\n",
    "    for img in images:\n",
    "        img = cv2.resize(img, (128, 128))  # Resize images to a fixed size\n",
    "        gray = cv2.cvtColor(img, cv2.COLOR_BGR2GRAY)  # Convert to grayscale\n",
    "        processed_images.append(gray)\n",
    "    return processed_images\n",
    "\n",
    "healthy_images_processed = preprocess_images(healthy_images)\n",
    "diseased_images_processed = preprocess_images(diseased_images)"
   ]
  },
  {
   "cell_type": "code",
   "execution_count": 37,
   "id": "aefe7ac0-fa07-4c00-bcc9-7fc36bdc4e11",
   "metadata": {
    "scrolled": true
   },
   "outputs": [],
   "source": [
    "# Convert images to the correct data type (float32) and reshape them\n",
    "X = np.array(healthy_images_processed + diseased_images_processed, dtype=np.float32)\n",
    "X = X.reshape(X.shape[0], -1)  # Flatten images\n",
    "y = np.array([0] * len(healthy_images_processed) + [1] * len(diseased_images_processed))  # 0 for healthy, 1 for diseased"
   ]
  },
  {
   "cell_type": "code",
   "execution_count": 38,
   "id": "e0c922c3-b86b-4bd0-875f-b768beb0e6fb",
   "metadata": {},
   "outputs": [
    {
     "data": {
      "text/plain": [
       "True"
      ]
     },
     "execution_count": 38,
     "metadata": {},
     "output_type": "execute_result"
    }
   ],
   "source": [
    "# Train the model\n",
    "model = cv2.ml.KNearest_create()\n",
    "model.train(X, cv2.ml.ROW_SAMPLE, y)"
   ]
  },
  {
   "cell_type": "code",
   "execution_count": 50,
   "id": "b7413156-a1f8-4e27-9c7a-2710c48ebab1",
   "metadata": {},
   "outputs": [],
   "source": [
    "# Function to predict class of a single image\n",
    "def predict_image(img):\n",
    "    gray = cv2.resize(img, (128, 128))\n",
    "    gray = cv2.cvtColor(gray, cv2.COLOR_BGR2GRAY)\n",
    "    gray = gray.reshape(1, -1)  # Flatten image\n",
    "    _, result, _, _ = model.findNearest(np.array(gray, dtype=np.float32), k=1)\n",
    "    return result.ravel()[0]"
   ]
  },
  {
   "cell_type": "code",
   "execution_count": 51,
   "id": "e9de9a15-7eba-4043-8f58-f67d2200832b",
   "metadata": {},
   "outputs": [
    {
     "name": "stdout",
     "output_type": "stream",
     "text": [
      "Diseased plant\n"
     ]
    }
   ],
   "source": [
    "# Test the model on new images\n",
    "test_image = cv2.imread(\"Plant_Leaf_Diseases_dataset\\With_augmentation\\Apple___Black_rot\\image (2).JPG\")\n",
    "prediction = predict_image(test_image)\n",
    "if prediction == 0:\n",
    "    print(\"Healthy plant\")\n",
    "else:\n",
    "    print(\"Diseased plant\")"
   ]
  },
  {
   "cell_type": "code",
   "execution_count": null,
   "id": "54cbf9d8-b850-4de8-8491-b6c80b3d10ea",
   "metadata": {},
   "outputs": [],
   "source": []
  }
 ],
 "metadata": {
  "kernelspec": {
   "display_name": "Python 3 (ipykernel)",
   "language": "python",
   "name": "python3"
  },
  "language_info": {
   "codemirror_mode": {
    "name": "ipython",
    "version": 3
   },
   "file_extension": ".py",
   "mimetype": "text/x-python",
   "name": "python",
   "nbconvert_exporter": "python",
   "pygments_lexer": "ipython3",
   "version": "3.11.5"
  }
 },
 "nbformat": 4,
 "nbformat_minor": 5
}
